{
 "cells": [
  {
   "cell_type": "markdown",
   "metadata": {},
   "source": [
    "# Without Arrival Time"
   ]
  },
  {
   "cell_type": "code",
   "execution_count": 6,
   "metadata": {},
   "outputs": [
    {
     "name": "stdout",
     "output_type": "stream",
     "text": [
      "Processes Burst time  Waiting time  Turn around time\n",
      " 1\t\t12\t 0\t\t 12\n",
      " 2\t\t17\t 12\t\t 29\n",
      " 3\t\t20\t 29\t\t 49\n",
      "Average waiting time = 13.666666666666666\n",
      "Average turn around time = 30.0\n"
     ]
    }
   ],
   "source": [
    "def findWT(processes, n,bt, wt): \n",
    "    wt[0] = 0\n",
    "  \n",
    "    for i in range(1, n ): \n",
    "        wt[i] = bt[i - 1] + wt[i - 1]  \n",
    "        \n",
    "def findTAT(processes, n,bt, wt, tat): \n",
    "      for i in range(n): \n",
    "        tat[i] = bt[i] + wt[i]\n",
    "        \n",
    "def findAvT( processes, n, bt): \n",
    "    wt = [0] * n \n",
    "    tat = [0] * n  \n",
    "    total_wt = 0\n",
    "    total_tat = 0\n",
    "  \n",
    "\n",
    "    findWT(processes, n, bt, wt) \n",
    "    findTAT(processes, n,bt, wt, tat) \n",
    "\n",
    "    print( \"Processes Burst time \" +  \" Waiting time \" +  \" Turn around time\")\n",
    "    for i in range(n): \n",
    "        total_wt = total_wt + wt[i] \n",
    "        total_tat = total_tat + tat[i] \n",
    "        print(\" \" + str(i + 1) + \"\\t\\t\" +  str(bt[i]) + \"\\t \" +  str(wt[i]) + \"\\t\\t \" +  str(tat[i]))  \n",
    "  \n",
    "    print( \"Average waiting time = \"+str(total_wt / n)) \n",
    "    print(\"Average turn around time = \"+str(total_tat / n)) \n",
    "    \n",
    "if __name__ ==\"__main__\": \n",
    "    processes = [ 1, 2, 3] \n",
    "    n = len(processes) \n",
    "  \n",
    "    burst_time = [12, 17, 20] \n",
    "  \n",
    "    findAvT(processes, n, burst_time)"
   ]
  },
  {
   "cell_type": "markdown",
   "metadata": {},
   "source": [
    "# With Arrival Time"
   ]
  },
  {
   "cell_type": "code",
   "execution_count": 10,
   "metadata": {},
   "outputs": [
    {
     "name": "stdout",
     "output_type": "stream",
     "text": [
      "Processes   Burst Time   Arrival Time     Waiting Time   Turn-Around Time  Completion Time \n",
      "\n",
      "  1 \t\t 5 \t\t 0 \t\t 0 \t\t  5 \t\t  5\n",
      "  2 \t\t 10 \t\t 4 \t\t 1 \t\t  11 \t\t  15\n",
      "  3 \t\t 16 \t\t 12 \t\t 3 \t\t  19 \t\t  31\n",
      "Average waiting time = 1.33333 \n",
      "\n",
      "Average turn around time =  11.666666666666666\n"
     ]
    }
   ],
   "source": [
    "def findWaitingTime(processes, n, bt, wt, at):  \n",
    "    service_time = [0] * n  \n",
    "    service_time[0] = 0\n",
    "    wt[0] = 0\n",
    "    for i in range(1, n):  \n",
    "        service_time[i] = (service_time[i - 1] + bt[i - 1])    \n",
    "        wt[i] = service_time[i] - at[i]  \n",
    "        if (wt[i] < 0): \n",
    "            wt[i] = 0\n",
    "            \n",
    "def findTurnAroundTime(processes, n, bt, wt, tat):  \n",
    "    for i in range(n): \n",
    "        tat[i] = bt[i] + wt[i]  \n",
    "    \n",
    "def findavgTime(processes, n, bt, at):  \n",
    "    wt = [0] * n \n",
    "    tat = [0] * n  \n",
    "\n",
    "    findWaitingTime(processes, n, bt, wt, at)  \n",
    "  \n",
    "    findTurnAroundTime(processes, n, bt, wt, tat)  \n",
    "  \n",
    "    print(\"Processes   Burst Time   Arrival Time     Waiting\",  \n",
    "          \"Time   Turn-Around Time  Completion Time \\n\") \n",
    "    total_wt = 0\n",
    "    total_tat = 0\n",
    "    for i in range(n): \n",
    "  \n",
    "        total_wt = total_wt + wt[i]  \n",
    "        total_tat = total_tat + tat[i]  \n",
    "        compl_time = tat[i] + at[i]  \n",
    "        print(\" \", i + 1, \"\\t\\t\", bt[i], \"\\t\\t\", at[i],  \n",
    "              \"\\t\\t\", wt[i], \"\\t\\t \", tat[i], \"\\t\\t \", compl_time)  \n",
    "  \n",
    "    print(\"Average waiting time = %.5f \"%(total_wt /n)) \n",
    "    print(\"\\nAverage turn around time = \", total_tat / n)  \n",
    "\n",
    "processes = [1, 2, 3] \n",
    "n = 3\n",
    "\n",
    "burst_time = [5, 10, 16]  \n",
    "  \n",
    "arrival_time = [0, 4,12]  \n",
    "  \n",
    "findavgTime(processes, n, burst_time, \n",
    "                            arrival_time)"
   ]
  },
  {
   "cell_type": "code",
   "execution_count": null,
   "metadata": {},
   "outputs": [],
   "source": []
  }
 ],
 "metadata": {
  "kernelspec": {
   "display_name": "Python 3",
   "language": "python",
   "name": "python3"
  },
  "language_info": {
   "codemirror_mode": {
    "name": "ipython",
    "version": 3
   },
   "file_extension": ".py",
   "mimetype": "text/x-python",
   "name": "python",
   "nbconvert_exporter": "python",
   "pygments_lexer": "ipython3",
   "version": "3.8.3"
  }
 },
 "nbformat": 4,
 "nbformat_minor": 2
}
